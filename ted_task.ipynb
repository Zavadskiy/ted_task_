{
 "cells": [
  {
   "cell_type": "markdown",
   "id": "951ec123-059d-4b1f-8f2d-140cfeb063ee",
   "metadata": {},
   "source": [
    "install all lib "
   ]
  },
  {
   "cell_type": "code",
   "execution_count": 36,
   "id": "0d178660-879c-45bc-bbd0-cd129f7efdf1",
   "metadata": {},
   "outputs": [
    {
     "name": "stdout",
     "output_type": "stream",
     "text": [
      "Defaulting to user installation because normal site-packages is not writeable\n",
      "Requirement already satisfied: google-cloud-bigquery in /home/viacheslav/.local/lib/python3.10/site-packages (from -r requirements.txt (line 1)) (3.18.0)\n",
      "Requirement already satisfied: pandas in /home/viacheslav/.local/lib/python3.10/site-packages (from -r requirements.txt (line 2)) (2.0.3)\n",
      "Requirement already satisfied: requests in /home/viacheslav/.local/lib/python3.10/site-packages (from -r requirements.txt (line 3)) (2.31.0)\n",
      "Requirement already satisfied: pyarrow in /home/viacheslav/.local/lib/python3.10/site-packages (from -r requirements.txt (line 4)) (16.0.0)\n",
      "Requirement already satisfied: python-dateutil<3.0dev,>=2.7.2 in /home/viacheslav/.local/lib/python3.10/site-packages (from google-cloud-bigquery->-r requirements.txt (line 1)) (2.9.0.post0)\n",
      "Requirement already satisfied: google-api-core!=2.0.*,!=2.1.*,!=2.2.*,!=2.3.0,<3.0.0dev,>=1.31.5 in /home/viacheslav/.local/lib/python3.10/site-packages (from google-cloud-bigquery->-r requirements.txt (line 1)) (2.17.1)\n",
      "Requirement already satisfied: google-resumable-media<3.0dev,>=0.6.0 in /home/viacheslav/.local/lib/python3.10/site-packages (from google-cloud-bigquery->-r requirements.txt (line 1)) (2.7.0)\n",
      "Requirement already satisfied: packaging>=20.0.0 in /usr/lib/python3/dist-packages (from google-cloud-bigquery->-r requirements.txt (line 1)) (21.3)\n",
      "Requirement already satisfied: google-cloud-core<3.0.0dev,>=1.6.0 in /home/viacheslav/.local/lib/python3.10/site-packages (from google-cloud-bigquery->-r requirements.txt (line 1)) (2.4.1)\n",
      "Requirement already satisfied: tzdata>=2022.1 in /home/viacheslav/.local/lib/python3.10/site-packages (from pandas->-r requirements.txt (line 2)) (2024.1)\n",
      "Requirement already satisfied: pytz>=2020.1 in /home/viacheslav/.local/lib/python3.10/site-packages (from pandas->-r requirements.txt (line 2)) (2024.1)\n",
      "Requirement already satisfied: numpy>=1.21.0 in /home/viacheslav/.local/lib/python3.10/site-packages (from pandas->-r requirements.txt (line 2)) (1.21.6)\n",
      "Requirement already satisfied: charset-normalizer<4,>=2 in /home/viacheslav/.local/lib/python3.10/site-packages (from requests->-r requirements.txt (line 3)) (3.3.2)\n",
      "Requirement already satisfied: urllib3<3,>=1.21.1 in /usr/lib/python3/dist-packages (from requests->-r requirements.txt (line 3)) (1.26.5)\n",
      "Requirement already satisfied: idna<4,>=2.5 in /usr/lib/python3/dist-packages (from requests->-r requirements.txt (line 3)) (3.3)\n",
      "Requirement already satisfied: certifi>=2017.4.17 in /home/viacheslav/.local/lib/python3.10/site-packages (from requests->-r requirements.txt (line 3)) (2024.2.2)\n",
      "Collecting protobuf!=3.20.0,!=3.20.1,!=4.21.0,!=4.21.1,!=4.21.2,!=4.21.3,!=4.21.4,!=4.21.5,<5.0.0.dev0,>=3.19.5\n",
      "  Using cached protobuf-4.25.3-cp37-abi3-manylinux2014_x86_64.whl (294 kB)\n",
      "Requirement already satisfied: google-auth<3.0.dev0,>=2.14.1 in /home/viacheslav/.local/lib/python3.10/site-packages (from google-api-core!=2.0.*,!=2.1.*,!=2.2.*,!=2.3.0,<3.0.0dev,>=1.31.5->google-cloud-bigquery->-r requirements.txt (line 1)) (2.28.1)\n",
      "Requirement already satisfied: googleapis-common-protos<2.0.dev0,>=1.56.2 in /home/viacheslav/.local/lib/python3.10/site-packages (from google-api-core!=2.0.*,!=2.1.*,!=2.2.*,!=2.3.0,<3.0.0dev,>=1.31.5->google-cloud-bigquery->-r requirements.txt (line 1)) (1.62.0)\n",
      "Requirement already satisfied: google-crc32c<2.0dev,>=1.0 in /home/viacheslav/.local/lib/python3.10/site-packages (from google-resumable-media<3.0dev,>=0.6.0->google-cloud-bigquery->-r requirements.txt (line 1)) (1.5.0)\n",
      "Requirement already satisfied: six>=1.5 in /usr/lib/python3/dist-packages (from python-dateutil<3.0dev,>=2.7.2->google-cloud-bigquery->-r requirements.txt (line 1)) (1.16.0)\n",
      "Requirement already satisfied: pyasn1-modules>=0.2.1 in /home/viacheslav/.local/lib/python3.10/site-packages (from google-auth<3.0.dev0,>=2.14.1->google-api-core!=2.0.*,!=2.1.*,!=2.2.*,!=2.3.0,<3.0.0dev,>=1.31.5->google-cloud-bigquery->-r requirements.txt (line 1)) (0.3.0)\n",
      "Requirement already satisfied: rsa<5,>=3.1.4 in /home/viacheslav/.local/lib/python3.10/site-packages (from google-auth<3.0.dev0,>=2.14.1->google-api-core!=2.0.*,!=2.1.*,!=2.2.*,!=2.3.0,<3.0.0dev,>=1.31.5->google-cloud-bigquery->-r requirements.txt (line 1)) (4.9)\n",
      "Requirement already satisfied: cachetools<6.0,>=2.0.0 in /home/viacheslav/.local/lib/python3.10/site-packages (from google-auth<3.0.dev0,>=2.14.1->google-api-core!=2.0.*,!=2.1.*,!=2.2.*,!=2.3.0,<3.0.0dev,>=1.31.5->google-cloud-bigquery->-r requirements.txt (line 1)) (5.3.3)\n",
      "Requirement already satisfied: pyasn1<0.6.0,>=0.4.6 in /home/viacheslav/.local/lib/python3.10/site-packages (from pyasn1-modules>=0.2.1->google-auth<3.0.dev0,>=2.14.1->google-api-core!=2.0.*,!=2.1.*,!=2.2.*,!=2.3.0,<3.0.0dev,>=1.31.5->google-cloud-bigquery->-r requirements.txt (line 1)) (0.5.1)\n",
      "Installing collected packages: protobuf\n",
      "  Attempting uninstall: protobuf\n",
      "    Found existing installation: protobuf 5.26.1\n",
      "    Uninstalling protobuf-5.26.1:\n",
      "      Successfully uninstalled protobuf-5.26.1\n",
      "Successfully installed protobuf-4.25.3\n",
      "Note: you may need to restart the kernel to use updated packages.\n"
     ]
    }
   ],
   "source": [
    "pip install -r requirements.txt"
   ]
  },
  {
   "cell_type": "markdown",
   "id": "07788344-52bf-450c-8fe5-f140de39caec",
   "metadata": {},
   "source": [
    "import all lib in this projects"
   ]
  },
  {
   "cell_type": "code",
   "execution_count": 24,
   "id": "b7f1e8e0-1ccf-4957-9b66-52698458dfbe",
   "metadata": {},
   "outputs": [],
   "source": [
    "from google.cloud import bigquery\n",
    "import pandas as pd\n",
    "import requests\n",
    "import pandas as pd\n",
    "import pyarrow.parquet as pq\n",
    "from datetime import datetime"
   ]
  },
  {
   "cell_type": "markdown",
   "id": "9fab5ea2-b8a8-474e-b6d8-583f6f451011",
   "metadata": {},
   "source": [
    "connect to google credentials, beacuse i use BigQuery. \n",
    "please use your json key"
   ]
  },
  {
   "cell_type": "code",
   "execution_count": 3,
   "id": "73542db5-47b2-41f7-a597-3462672b943d",
   "metadata": {},
   "outputs": [],
   "source": [
    "os.environ[\"GOOGLE_APPLICATION_CREDENTIALS\"] =\"PATH_YOUR_JSON_KEY.json\""
   ]
  },
  {
   "cell_type": "markdown",
   "id": "b58d7bc4-6aae-4a66-93e2-a4b926cd15e4",
   "metadata": {},
   "source": [
    "function for executing a request in BigQuery\n"
   ]
  },
  {
   "cell_type": "code",
   "execution_count": 5,
   "id": "e260dfcf-08bb-4c8a-908a-99e6c6acfa07",
   "metadata": {},
   "outputs": [],
   "source": [
    "client = bigquery.Client()\n",
    "\n",
    "def create_table(query):\n",
    "    query_job = client.query(query)\n",
    "    return query_job.to_dataframe()"
   ]
  },
  {
   "cell_type": "markdown",
   "id": "f21dea7b-67ff-490f-b857-c5a26737d259",
   "metadata": {},
   "source": [
    "first sql task.\n",
    "\n",
    "first qusery - create table and filling out the table\n",
    "\n",
    "use your dataset in all query"
   ]
  },
  {
   "cell_type": "code",
   "execution_count": 10,
   "id": "72ef3d94-c900-41ca-a28d-5cae76dc2af6",
   "metadata": {},
   "outputs": [
    {
     "data": {
      "text/html": [
       "<div>\n",
       "<style scoped>\n",
       "    .dataframe tbody tr th:only-of-type {\n",
       "        vertical-align: middle;\n",
       "    }\n",
       "\n",
       "    .dataframe tbody tr th {\n",
       "        vertical-align: top;\n",
       "    }\n",
       "\n",
       "    .dataframe thead th {\n",
       "        text-align: right;\n",
       "    }\n",
       "</style>\n",
       "<table border=\"1\" class=\"dataframe\">\n",
       "  <thead>\n",
       "    <tr style=\"text-align: right;\">\n",
       "      <th></th>\n",
       "      <th>user_id</th>\n",
       "      <th>spend</th>\n",
       "      <th>transaction_date</th>\n",
       "    </tr>\n",
       "  </thead>\n",
       "  <tbody>\n",
       "    <tr>\n",
       "      <th>0</th>\n",
       "      <td>111</td>\n",
       "      <td>89.60</td>\n",
       "      <td>2022-02-05 12:00:00+00:00</td>\n",
       "    </tr>\n",
       "    <tr>\n",
       "      <th>1</th>\n",
       "      <td>111</td>\n",
       "      <td>55.00</td>\n",
       "      <td>2022-01-10 12:00:00+00:00</td>\n",
       "    </tr>\n",
       "    <tr>\n",
       "      <th>2</th>\n",
       "      <td>111</td>\n",
       "      <td>100.50</td>\n",
       "      <td>2022-01-08 12:00:00+00:00</td>\n",
       "    </tr>\n",
       "    <tr>\n",
       "      <th>3</th>\n",
       "      <td>121</td>\n",
       "      <td>36.00</td>\n",
       "      <td>2022-01-18 12:00:00+00:00</td>\n",
       "    </tr>\n",
       "    <tr>\n",
       "      <th>4</th>\n",
       "      <td>145</td>\n",
       "      <td>24.99</td>\n",
       "      <td>2022-01-26 12:00:00+00:00</td>\n",
       "    </tr>\n",
       "  </tbody>\n",
       "</table>\n",
       "</div>"
      ],
      "text/plain": [
       "   user_id   spend          transaction_date\n",
       "0      111   89.60 2022-02-05 12:00:00+00:00\n",
       "1      111   55.00 2022-01-10 12:00:00+00:00\n",
       "2      111  100.50 2022-01-08 12:00:00+00:00\n",
       "3      121   36.00 2022-01-18 12:00:00+00:00\n",
       "4      145   24.99 2022-01-26 12:00:00+00:00"
      ]
     },
     "execution_count": 10,
     "metadata": {},
     "output_type": "execute_result"
    }
   ],
   "source": [
    "transaction_table = f\"\"\"\n",
    "CREATE TABLE USE_YOUR_DATASET.transactions (\n",
    "  user_id INT64,\n",
    "  spend FLOAT64,\n",
    "  transaction_date TIMESTAMP\n",
    ");\n",
    "\n",
    "INSERT INTO USE_YOUR_DATASET.transactions (user_id, spend, transaction_date)\n",
    "VALUES\n",
    "  (111, 100.50, TIMESTAMP '2022-01-08 12:00:00'),\n",
    "  (111, 55.00, TIMESTAMP '2022-01-10 12:00:00'),\n",
    "  (121, 36.00, TIMESTAMP '2022-01-18 12:00:00'),\n",
    "  (145, 24.99, TIMESTAMP '2022-01-26 12:00:00'),\n",
    "  (111, 89.60, TIMESTAMP '2022-02-05 12:00:00');\n",
    "\n",
    "SELECT * FROM `USE_YOUR_DATASET.transactions`\n",
    "\"\"\"\n",
    "\n",
    "df_transactions = create_table(transaction_table)\n",
    "df_transactions"
   ]
  },
  {
   "cell_type": "markdown",
   "id": "0b0f9384-10b0-43a5-b908-97f48a9814dc",
   "metadata": {},
   "source": [
    "i use this query to receive 3 purchases"
   ]
  },
  {
   "cell_type": "code",
   "execution_count": 11,
   "id": "ee292fbb-5cd6-43bb-8a26-163efff3fde1",
   "metadata": {},
   "outputs": [
    {
     "data": {
      "text/html": [
       "<div>\n",
       "<style scoped>\n",
       "    .dataframe tbody tr th:only-of-type {\n",
       "        vertical-align: middle;\n",
       "    }\n",
       "\n",
       "    .dataframe tbody tr th {\n",
       "        vertical-align: top;\n",
       "    }\n",
       "\n",
       "    .dataframe thead th {\n",
       "        text-align: right;\n",
       "    }\n",
       "</style>\n",
       "<table border=\"1\" class=\"dataframe\">\n",
       "  <thead>\n",
       "    <tr style=\"text-align: right;\">\n",
       "      <th></th>\n",
       "      <th>user_id</th>\n",
       "      <th>spend</th>\n",
       "      <th>transaction_date</th>\n",
       "    </tr>\n",
       "  </thead>\n",
       "  <tbody>\n",
       "    <tr>\n",
       "      <th>0</th>\n",
       "      <td>111</td>\n",
       "      <td>89.6</td>\n",
       "      <td>2022-02-05 12:00:00+00:00</td>\n",
       "    </tr>\n",
       "  </tbody>\n",
       "</table>\n",
       "</div>"
      ],
      "text/plain": [
       "   user_id  spend          transaction_date\n",
       "0      111   89.6 2022-02-05 12:00:00+00:00"
      ]
     },
     "execution_count": 11,
     "metadata": {},
     "output_type": "execute_result"
    }
   ],
   "source": [
    "third_transaction = f\"\"\"\n",
    "WITH transactions AS (\n",
    "  SELECT * FROM `USE_YOUR_DATASET.transactions`\n",
    ")\n",
    ", third_transactions AS (\n",
    "  SELECT *\n",
    "    , ROW_NUMBER() OVER (PARTITION BY user_id ORDER BY transaction_date ASC) AS row_n\n",
    "  FROM transactions\n",
    "  GROUP BY 1, 2, 3\n",
    ")\n",
    "SELECT\n",
    "  user_id\n",
    "  , spend\n",
    "  , transaction_date\n",
    "FROM third_transactions\n",
    "WHERE row_n = 3\n",
    "\"\"\"\n",
    "\n",
    "df_third_transaction = create_table(third_transaction)\n",
    "df_third_transaction"
   ]
  },
  {
   "cell_type": "markdown",
   "id": "95500ed0-a8e3-454e-8536-3cc675a0096d",
   "metadata": {},
   "source": [
    "second sql task analog first\n",
    "\n",
    "use your dataset please"
   ]
  },
  {
   "cell_type": "code",
   "execution_count": 12,
   "id": "65d771b4-8544-4d80-826b-35c701fe1d11",
   "metadata": {},
   "outputs": [
    {
     "data": {
      "text/html": [
       "<div>\n",
       "<style scoped>\n",
       "    .dataframe tbody tr th:only-of-type {\n",
       "        vertical-align: middle;\n",
       "    }\n",
       "\n",
       "    .dataframe tbody tr th {\n",
       "        vertical-align: top;\n",
       "    }\n",
       "\n",
       "    .dataframe thead th {\n",
       "        text-align: right;\n",
       "    }\n",
       "</style>\n",
       "<table border=\"1\" class=\"dataframe\">\n",
       "  <thead>\n",
       "    <tr style=\"text-align: right;\">\n",
       "      <th></th>\n",
       "      <th>caller_id</th>\n",
       "      <th>country_id</th>\n",
       "      <th>network</th>\n",
       "      <th>phone_number</th>\n",
       "    </tr>\n",
       "  </thead>\n",
       "  <tbody>\n",
       "    <tr>\n",
       "      <th>0</th>\n",
       "      <td>5</td>\n",
       "      <td>IN</td>\n",
       "      <td>Vodafone</td>\n",
       "      <td>+91 7503-907302</td>\n",
       "    </tr>\n",
       "    <tr>\n",
       "      <th>1</th>\n",
       "      <td>6</td>\n",
       "      <td>IN</td>\n",
       "      <td>Vodafone</td>\n",
       "      <td>+91 2287-664895</td>\n",
       "    </tr>\n",
       "    <tr>\n",
       "      <th>2</th>\n",
       "      <td>1</td>\n",
       "      <td>US</td>\n",
       "      <td>Verizon</td>\n",
       "      <td>+1-212-897-1964</td>\n",
       "    </tr>\n",
       "    <tr>\n",
       "      <th>3</th>\n",
       "      <td>3</td>\n",
       "      <td>US</td>\n",
       "      <td>Verizon</td>\n",
       "      <td>+1-650-828-4774</td>\n",
       "    </tr>\n",
       "    <tr>\n",
       "      <th>4</th>\n",
       "      <td>2</td>\n",
       "      <td>US</td>\n",
       "      <td>Verizon</td>\n",
       "      <td>+1-703-346-9529</td>\n",
       "    </tr>\n",
       "    <tr>\n",
       "      <th>5</th>\n",
       "      <td>4</td>\n",
       "      <td>US</td>\n",
       "      <td>Verizon</td>\n",
       "      <td>+1-415-224-6663</td>\n",
       "    </tr>\n",
       "  </tbody>\n",
       "</table>\n",
       "</div>"
      ],
      "text/plain": [
       "   caller_id country_id   network     phone_number\n",
       "0          5         IN  Vodafone  +91 7503-907302\n",
       "1          6         IN  Vodafone  +91 2287-664895\n",
       "2          1         US   Verizon  +1-212-897-1964\n",
       "3          3         US   Verizon  +1-650-828-4774\n",
       "4          2         US   Verizon  +1-703-346-9529\n",
       "5          4         US   Verizon  +1-415-224-6663"
      ]
     },
     "execution_count": 12,
     "metadata": {},
     "output_type": "execute_result"
    }
   ],
   "source": [
    "phone_calls = f\"\"\"\n",
    "CREATE TABLE USE_YOUR_DATASET.phone_calls (\n",
    "  caller_id INT64,\n",
    "  receiver_id INT64,\n",
    "  call_time TIMESTAMP\n",
    ");\n",
    "\n",
    "INSERT INTO USE_YOUR_DATASET.phone_calls (caller_id, receiver_id, call_time)\n",
    "VALUES\n",
    "  (1, 2, TIMESTAMP '2022-07-04 10:13:49'),\n",
    "  (1, 5, TIMESTAMP '2022-08-21 23:54:56'),\n",
    "  (5, 1, TIMESTAMP '2022-05-13 17:24:06'),\n",
    "  (5, 6, TIMESTAMP '2022-03-18 12:11:49');\n",
    "\n",
    "SELECT * FROM `USE_YOUR_DATASET.phone_calls` \n",
    "\n",
    "\"\"\"\n",
    "df_phone_calls = create_table(phone_calls)\n",
    "df_phone_calls\n",
    "phone_info = f\"\"\"\n",
    "CREATE TABLE USE_YOUR_DATASET.phone_info (\n",
    "  caller_id INT64,\n",
    "  country_id STRING,\n",
    "  network STRING,\n",
    "  phone_number STRING\n",
    ");\n",
    "\n",
    "INSERT INTO USE_YOUR_DATASET.phone_info (caller_id, country_id, network, phone_number)\n",
    "VALUES\n",
    "  (1, 'US', 'Verizon', '+1-212-897-1964'),\n",
    "  (2, 'US', 'Verizon', '+1-703-346-9529'),\n",
    "  (3, 'US', 'Verizon', '+1-650-828-4774'),\n",
    "  (4, 'US', 'Verizon', '+1-415-224-6663'),\n",
    "  (5, 'IN', 'Vodafone', '+91 7503-907302'),\n",
    "  (6, 'IN', 'Vodafone', '+91 2287-664895');\n",
    "\n",
    "SELECT * FROM `USE_YOUR_DATASET.phone_info`\n",
    "\n",
    "\"\"\"\n",
    "df_phone_info = create_table(phone_info)\n",
    "df_phone_info"
   ]
  },
  {
   "cell_type": "markdown",
   "id": "8e286c76-f96f-461d-b3e3-5b3b6fdc9499",
   "metadata": {},
   "source": [
    "i added(JOIN) columns country_caller_id, country_receiver_id with phone_info."
   ]
  },
  {
   "cell_type": "code",
   "execution_count": 13,
   "id": "fd47c9c8-0e4b-4375-b1c2-ff38e83f9047",
   "metadata": {},
   "outputs": [
    {
     "data": {
      "text/html": [
       "<div>\n",
       "<style scoped>\n",
       "    .dataframe tbody tr th:only-of-type {\n",
       "        vertical-align: middle;\n",
       "    }\n",
       "\n",
       "    .dataframe tbody tr th {\n",
       "        vertical-align: top;\n",
       "    }\n",
       "\n",
       "    .dataframe thead th {\n",
       "        text-align: right;\n",
       "    }\n",
       "</style>\n",
       "<table border=\"1\" class=\"dataframe\">\n",
       "  <thead>\n",
       "    <tr style=\"text-align: right;\">\n",
       "      <th></th>\n",
       "      <th>international_calls_pct</th>\n",
       "    </tr>\n",
       "  </thead>\n",
       "  <tbody>\n",
       "    <tr>\n",
       "      <th>0</th>\n",
       "      <td>50.0</td>\n",
       "    </tr>\n",
       "  </tbody>\n",
       "</table>\n",
       "</div>"
      ],
      "text/plain": [
       "   international_calls_pct\n",
       "0                     50.0"
      ]
     },
     "execution_count": 13,
     "metadata": {},
     "output_type": "execute_result"
    }
   ],
   "source": [
    "international_calls = f\"\"\"\n",
    "WITH phone_calls AS (\n",
    "  SELECT * FROM `USE_YOUR_DATASET.phone_calls`\n",
    ")\n",
    ", phone_info AS (\n",
    "  SELECT * FROM `USE_YOUR_DATASET.phone_info`\n",
    ")\n",
    ", phone_country AS (\n",
    "  SELECT phone_calls.*\n",
    "    , info_caller.country_id AS country_caller_id\n",
    "    , info_receiver.country_id AS country_receiver_id\n",
    "  FROM phone_calls\n",
    "  LEFT JOIN phone_info AS info_caller ON phone_calls.caller_id = info_caller.caller_id\n",
    "  LEFT JOIN phone_info AS info_receiver ON phone_calls.receiver_id = info_receiver.caller_id\n",
    ")\n",
    ", international_calls AS (\n",
    "  SELECT *\n",
    "    , if(country_caller_id = country_receiver_id, 1, 0) AS is_international_call \n",
    "  FROM phone_country\n",
    ")\n",
    "SELECT\n",
    "  ROUND((SUM(is_international_call) / COUNT(*)) * 100) AS international_calls_pct\n",
    "FROM international_calls\n",
    "\n",
    "\"\"\"\n",
    "df_international_calls = create_table(international_calls)\n",
    "df_international_calls"
   ]
  },
  {
   "cell_type": "markdown",
   "id": "3159eb84-2daf-411d-ae14-6903539e6f55",
   "metadata": {},
   "source": [
    "third sql task analog first/second"
   ]
  },
  {
   "cell_type": "code",
   "execution_count": 20,
   "id": "6aeab56a-c348-4072-ac6d-fe85356f9a14",
   "metadata": {},
   "outputs": [
    {
     "data": {
      "text/html": [
       "<div>\n",
       "<style scoped>\n",
       "    .dataframe tbody tr th:only-of-type {\n",
       "        vertical-align: middle;\n",
       "    }\n",
       "\n",
       "    .dataframe tbody tr th {\n",
       "        vertical-align: top;\n",
       "    }\n",
       "\n",
       "    .dataframe thead th {\n",
       "        text-align: right;\n",
       "    }\n",
       "</style>\n",
       "<table border=\"1\" class=\"dataframe\">\n",
       "  <thead>\n",
       "    <tr style=\"text-align: right;\">\n",
       "      <th></th>\n",
       "      <th>text_id</th>\n",
       "      <th>email_id</th>\n",
       "      <th>signup_action</th>\n",
       "    </tr>\n",
       "  </thead>\n",
       "  <tbody>\n",
       "    <tr>\n",
       "      <th>0</th>\n",
       "      <td>6920</td>\n",
       "      <td>236</td>\n",
       "      <td>Not Confirmed</td>\n",
       "    </tr>\n",
       "    <tr>\n",
       "      <th>1</th>\n",
       "      <td>6994</td>\n",
       "      <td>236</td>\n",
       "      <td>Confirmed</td>\n",
       "    </tr>\n",
       "    <tr>\n",
       "      <th>2</th>\n",
       "      <td>6878</td>\n",
       "      <td>125</td>\n",
       "      <td>Confirmed</td>\n",
       "    </tr>\n",
       "  </tbody>\n",
       "</table>\n",
       "</div>"
      ],
      "text/plain": [
       "   text_id  email_id  signup_action\n",
       "0     6920       236  Not Confirmed\n",
       "1     6994       236      Confirmed\n",
       "2     6878       125      Confirmed"
      ]
     },
     "execution_count": 20,
     "metadata": {},
     "output_type": "execute_result"
    }
   ],
   "source": [
    "emails = f\"\"\"\n",
    "CREATE TABLE USE_YOUR_DATASET.emails (\n",
    "  email_id INT64,\n",
    "  user_id INT64,\n",
    "  signup_date TIMESTAMP\n",
    ");\n",
    "\n",
    "INSERT INTO USE_YOUR_DATASET.emails (email_id, user_id, signup_date)\n",
    "VALUES\n",
    "  (125, 7771, TIMESTAMP '2022-06-14 00:00:00'),\n",
    "  (236, 6950, TIMESTAMP '2022-07-01 00:00:00'),\n",
    "  (433, 1052, TIMESTAMP '2022-07-09 00:00:00');\n",
    "\n",
    "SELECT * FROM `USE_YOUR_DATASET.emails`\n",
    "\"\"\"\n",
    "df_emails = create_table(emails)\n",
    "\n",
    "\n",
    "texts = f\"\"\"\n",
    "CREATE TABLE USE_YOUR_DATASET.texts (\n",
    "  text_id INT64,\n",
    "  email_id INT64,\n",
    "  signup_action STRING\n",
    ");\n",
    "\n",
    "INSERT INTO USE_YOUR_DATASET.texts (text_id, email_id, signup_action)\n",
    "VALUES\n",
    "  (6878, 125, 'Confirmed'),\n",
    "  (6920, 236, 'Not Confirmed'),\n",
    "  (6994, 236, 'Confirmed');\n",
    "\n",
    "SELECT * FROM `USE_YOUR_DATASET.texts`\n",
    "\"\"\"\n",
    "df_texts = create_table(texts)\n",
    "\n",
    "df_emails\n",
    "df_texts"
   ]
  },
  {
   "cell_type": "markdown",
   "id": "38d6fbbb-5f19-4d4c-b863-fb914fb62e2d",
   "metadata": {},
   "source": [
    "query \n"
   ]
  },
  {
   "cell_type": "code",
   "execution_count": 21,
   "id": "27f34b6d-efc6-4608-b4a6-6549b63f0a09",
   "metadata": {},
   "outputs": [
    {
     "data": {
      "text/html": [
       "<div>\n",
       "<style scoped>\n",
       "    .dataframe tbody tr th:only-of-type {\n",
       "        vertical-align: middle;\n",
       "    }\n",
       "\n",
       "    .dataframe tbody tr th {\n",
       "        vertical-align: top;\n",
       "    }\n",
       "\n",
       "    .dataframe thead th {\n",
       "        text-align: right;\n",
       "    }\n",
       "</style>\n",
       "<table border=\"1\" class=\"dataframe\">\n",
       "  <thead>\n",
       "    <tr style=\"text-align: right;\">\n",
       "      <th></th>\n",
       "      <th>confirm_rate</th>\n",
       "    </tr>\n",
       "  </thead>\n",
       "  <tbody>\n",
       "    <tr>\n",
       "      <th>0</th>\n",
       "      <td>0.67</td>\n",
       "    </tr>\n",
       "  </tbody>\n",
       "</table>\n",
       "</div>"
      ],
      "text/plain": [
       "   confirm_rate\n",
       "0          0.67"
      ]
     },
     "execution_count": 21,
     "metadata": {},
     "output_type": "execute_result"
    }
   ],
   "source": [
    "email_activate= f\"\"\"\n",
    "WITH emails AS (\n",
    "  SELECT * FROM `USE_YOUR_DATASET.emails`\n",
    "),\n",
    "texts AS (\n",
    "  SELECT * FROM `USE_YOUR_DATASET.texts`\n",
    "),\n",
    "last_texts AS (\n",
    "  SELECT *,\n",
    "         ROW_NUMBER() OVER (PARTITION BY email_id ORDER BY text_id DESC) AS row_n\n",
    "  FROM texts\n",
    "),\n",
    "email_activate AS (\n",
    "  SELECT *\n",
    "  FROM emails\n",
    "  LEFT JOIN last_texts USING(email_id)\n",
    "  WHERE last_texts.row_n = 1 OR last_texts.row_n IS NULL\n",
    "),\n",
    "confirmed_count AS (\n",
    "  SELECT \n",
    "    SUM(IF(signup_action = \"Confirmed\", 1, 0)) AS confirmed\n",
    "    , COUNT(*) AS total\n",
    "  FROM email_activate\n",
    ")\n",
    "SELECT \n",
    "  ROUND(confirmed / total, 2) AS confirm_rate\n",
    "FROM confirmed_count\n",
    "\n",
    "\"\"\"\n",
    "df_email_activate = create_table(email_activate)\n",
    "df_email_activate"
   ]
  },
  {
   "cell_type": "code",
   "execution_count": null,
   "id": "28122662-5e16-4762-bb1c-a2a0708b9107",
   "metadata": {},
   "outputs": [],
   "source": []
  },
  {
   "cell_type": "code",
   "execution_count": null,
   "id": "8eb3027b-02e6-4725-a8bf-f8e9b6f3562d",
   "metadata": {},
   "outputs": [],
   "source": []
  },
  {
   "cell_type": "code",
   "execution_count": 22,
   "id": "db9cbeab-ce33-424e-be54-9cbb5c1e12a4",
   "metadata": {},
   "outputs": [],
   "source": [
    "url_api = \"USE_YOUR_API_URL\""
   ]
  },
  {
   "cell_type": "code",
   "execution_count": 33,
   "id": "5acf2f83-d04d-4769-8f28-61940c9ae55f",
   "metadata": {},
   "outputs": [
    {
     "name": "stdout",
     "output_type": "stream",
     "text": [
      "Chunk 1 saved to data_1.csv\n",
      "Chunk 2 saved to data_2.csv\n",
      "Chunk 3 saved to data_3.csv\n",
      "Chunk 4 saved to data_4.csv\n",
      "Chunk 5 saved to data_5.csv\n",
      "Chunk 6 saved to data_6.csv\n",
      "Chunk 7 saved to data_7.csv\n",
      "Chunk 8 saved to data_8.csv\n",
      "Chunk 9 saved to data_9.csv\n",
      "Chunk 10 saved to data_10.csv\n",
      "Data download local\n"
     ]
    }
   ],
   "source": [
    "# check API url and return json data\n",
    "def get_data_from_api(url):\n",
    "    response = requests.get(url)\n",
    "    if response.status_code == 200:\n",
    "        return response.json()\n",
    "    else:\n",
    "        print(\"Error: Unable API\")\n",
    "        return None\n",
    "\n",
    "# convert to DataFrame format\n",
    "def convert_to_dataframe(data):\n",
    "    return pd.DataFrame(data)\n",
    "\n",
    "\n",
    "# split to 500 rows in one file\n",
    "def split_dataframe(df, chunk_size=500):\n",
    "    num_chunks = (len(df) + chunk_size - 1) // chunk_size\n",
    "    for i in range(num_chunks):\n",
    "        start = i * chunk_size\n",
    "        end = min((i + 1) * chunk_size, len(df))\n",
    "        chunk = df.iloc[start:end]\n",
    "        filename = f'data_{i + 1}.csv'\n",
    "        chunk.to_csv(filename, index=False)\n",
    "    \n",
    "        print(f\"Chunk {i + 1} saved to {filename}\")\n",
    "\n",
    "\n",
    "data = get_data_from_api(url_api)\n",
    "if data:\n",
    "    df = convert_to_dataframe(data)\n",
    "    split_dataframe(df)\n",
    "    print(\"Data download local\")"
   ]
  },
  {
   "cell_type": "code",
   "execution_count": null,
   "id": "314f775c-6b46-4006-949d-c3942e0911fb",
   "metadata": {},
   "outputs": [],
   "source": []
  },
  {
   "cell_type": "code",
   "execution_count": null,
   "id": "efd9c028-2ce1-4718-807a-643bd2009a5b",
   "metadata": {},
   "outputs": [],
   "source": []
  }
 ],
 "metadata": {
  "kernelspec": {
   "display_name": "Python 3 (ipykernel)",
   "language": "python",
   "name": "python3"
  },
  "language_info": {
   "codemirror_mode": {
    "name": "ipython",
    "version": 3
   },
   "file_extension": ".py",
   "mimetype": "text/x-python",
   "name": "python",
   "nbconvert_exporter": "python",
   "pygments_lexer": "ipython3",
   "version": "3.10.12"
  }
 },
 "nbformat": 4,
 "nbformat_minor": 5
}
